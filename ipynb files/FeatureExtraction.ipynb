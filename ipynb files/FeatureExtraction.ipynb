{
  "nbformat": 4,
  "nbformat_minor": 0,
  "metadata": {
    "colab": {
      "name": "Copy of FeatureExtraction.ipynb",
      "provenance": [],
      "collapsed_sections": [
        "oZsLCJPmXHoZ",
        "wV3wx4M4Urqy",
        "M1PaqYikTcWs",
        "RaIBvylCWvw6",
        "huvHmSAx0oDV"
      ]
    },
    "kernelspec": {
      "name": "python3",
      "display_name": "Python 3"
    },
    "language_info": {
      "name": "python"
    }
  },
  "cells": [
    {
      "cell_type": "markdown",
      "metadata": {
        "id": "INQw7NcYZ1cC"
      },
      "source": [
        "**Extracting features from phishing and benign urls.**"
      ]
    },
    {
      "cell_type": "code",
      "metadata": {
        "colab": {
          "base_uri": "https://localhost:8080/"
        },
        "id": "A-maAQgwVR5C",
        "outputId": "07905269-8bb8-478c-dc7c-af7b08b61974"
      },
      "source": [
        "from google.colab import drive\n",
        "drive.mount('/content/drive')\n"
      ],
      "execution_count": 1,
      "outputs": [
        {
          "output_type": "stream",
          "name": "stdout",
          "text": [
            "Mounted at /content/drive\n"
          ]
        }
      ]
    },
    {
      "cell_type": "markdown",
      "metadata": {
        "id": "oZsLCJPmXHoZ"
      },
      "source": [
        "> # **Intro**"
      ]
    },
    {
      "cell_type": "markdown",
      "metadata": {
        "id": "QjGcqHC4aMKi"
      },
      "source": [
        "From URLs we have to extract some features which will help us classify between phishing websites and legitimate one. \n",
        "The features can be classified into three types: \n",
        "1.   Address Bar Based Features\n",
        "2.   Abnormal Based Features\n",
        "3.   HTML and JavaScript based Features\n",
        "4.   Domain based Features\n",
        "\n",
        "\n",
        "Some of the featuers of phishing websites are: \n",
        "\n",
        "Using the IP Address\n",
        "\n",
        "> Using IP address in place of domain name in the URL such as `“http://125.98.3.123/fake.html”` and sometimes and IP address is used hex code: \n",
        "\n",
        "```\n",
        "“http://0x58.0xCC.0xCA.0x62/2/paypal.ca/index.html”\n",
        "```\n",
        "\n",
        "Other features are\n",
        "\n",
        "*   Long URLs. More than 52 char length are usually phishing urls. \n",
        "*   Using tiny url services. \n",
        "* Having *@* symbol in the in URL. \n",
        "* Using `-` hypthens in the url. \n",
        "\n",
        "The list is long and the features extracted are based on this paper:\n",
        "http://eprints.hud.ac.uk/id/eprint/24330/6/MohammadPhishing14July2015.pdf\n",
        "\n",
        "\n",
        " \n",
        "\n"
      ]
    },
    {
      "cell_type": "markdown",
      "metadata": {
        "id": "tgGC5ypZUp_-"
      },
      "source": [
        ""
      ]
    },
    {
      "cell_type": "code",
      "metadata": {
        "id": "yOJeQz-0Zf2u"
      },
      "source": [
        "import pandas as pd"
      ],
      "execution_count": 2,
      "outputs": []
    },
    {
      "cell_type": "markdown",
      "metadata": {
        "id": "GVZqy1BMfdNe"
      },
      "source": [
        "Extracting phishing URLs"
      ]
    },
    {
      "cell_type": "code",
      "metadata": {
        "id": "2FRDWEP9cIlg"
      },
      "source": [
        "data0 = pd.read_csv('/content/drive/MyDrive/Colab Notebooks/Datasets/verified_online.csv')\n",
        "#http://data.phishtank.com/data/online-valid.csv\n"
      ],
      "execution_count": 3,
      "outputs": []
    },
    {
      "cell_type": "code",
      "metadata": {
        "colab": {
          "base_uri": "https://localhost:8080/",
          "height": 0
        },
        "id": "9wIH-5xccn9H",
        "outputId": "691bbd31-f2d6-4d62-dfae-8f8cc26b1c10"
      },
      "source": [
        "data0.head()"
      ],
      "execution_count": 4,
      "outputs": [
        {
          "output_type": "execute_result",
          "data": {
            "text/html": [
              "<div>\n",
              "<style scoped>\n",
              "    .dataframe tbody tr th:only-of-type {\n",
              "        vertical-align: middle;\n",
              "    }\n",
              "\n",
              "    .dataframe tbody tr th {\n",
              "        vertical-align: top;\n",
              "    }\n",
              "\n",
              "    .dataframe thead th {\n",
              "        text-align: right;\n",
              "    }\n",
              "</style>\n",
              "<table border=\"1\" class=\"dataframe\">\n",
              "  <thead>\n",
              "    <tr style=\"text-align: right;\">\n",
              "      <th></th>\n",
              "      <th>phish_id</th>\n",
              "      <th>url</th>\n",
              "      <th>phish_detail_url</th>\n",
              "      <th>submission_time</th>\n",
              "      <th>verified</th>\n",
              "      <th>verification_time</th>\n",
              "      <th>online</th>\n",
              "      <th>target</th>\n",
              "    </tr>\n",
              "  </thead>\n",
              "  <tbody>\n",
              "    <tr>\n",
              "      <th>0</th>\n",
              "      <td>7265251</td>\n",
              "      <td>https://anazom.co.ip.lhpoct.shop/dR3snx1C.php?...</td>\n",
              "      <td>http://www.phishtank.com/phish_detail.php?phis...</td>\n",
              "      <td>2021-08-16T02:11:56+00:00</td>\n",
              "      <td>yes</td>\n",
              "      <td>2021-08-16T02:18:16+00:00</td>\n",
              "      <td>yes</td>\n",
              "      <td>Amazon.com</td>\n",
              "    </tr>\n",
              "    <tr>\n",
              "      <th>1</th>\n",
              "      <td>7265249</td>\n",
              "      <td>https://www.sprintage.it/images/login/bizmail.php</td>\n",
              "      <td>http://www.phishtank.com/phish_detail.php?phis...</td>\n",
              "      <td>2021-08-16T02:07:20+00:00</td>\n",
              "      <td>yes</td>\n",
              "      <td>2021-08-16T02:14:31+00:00</td>\n",
              "      <td>yes</td>\n",
              "      <td>Other</td>\n",
              "    </tr>\n",
              "    <tr>\n",
              "      <th>2</th>\n",
              "      <td>7265245</td>\n",
              "      <td>http://confirm-unverified-pplaccount.com/custo...</td>\n",
              "      <td>http://www.phishtank.com/phish_detail.php?phis...</td>\n",
              "      <td>2021-08-16T02:05:41+00:00</td>\n",
              "      <td>yes</td>\n",
              "      <td>2021-08-16T02:14:31+00:00</td>\n",
              "      <td>yes</td>\n",
              "      <td>Other</td>\n",
              "    </tr>\n",
              "    <tr>\n",
              "      <th>3</th>\n",
              "      <td>7265244</td>\n",
              "      <td>http://confirm-unverified-pplaccount.com/custo...</td>\n",
              "      <td>http://www.phishtank.com/phish_detail.php?phis...</td>\n",
              "      <td>2021-08-16T02:05:40+00:00</td>\n",
              "      <td>yes</td>\n",
              "      <td>2021-08-16T02:14:31+00:00</td>\n",
              "      <td>yes</td>\n",
              "      <td>Other</td>\n",
              "    </tr>\n",
              "    <tr>\n",
              "      <th>4</th>\n",
              "      <td>7265242</td>\n",
              "      <td>http://mail.confirm-unverified-pplaccount.com/...</td>\n",
              "      <td>http://www.phishtank.com/phish_detail.php?phis...</td>\n",
              "      <td>2021-08-16T02:05:36+00:00</td>\n",
              "      <td>yes</td>\n",
              "      <td>2021-08-16T02:14:31+00:00</td>\n",
              "      <td>yes</td>\n",
              "      <td>Other</td>\n",
              "    </tr>\n",
              "  </tbody>\n",
              "</table>\n",
              "</div>"
            ],
            "text/plain": [
              "   phish_id  ...      target\n",
              "0   7265251  ...  Amazon.com\n",
              "1   7265249  ...       Other\n",
              "2   7265245  ...       Other\n",
              "3   7265244  ...       Other\n",
              "4   7265242  ...       Other\n",
              "\n",
              "[5 rows x 8 columns]"
            ]
          },
          "metadata": {},
          "execution_count": 4
        }
      ]
    },
    {
      "cell_type": "code",
      "metadata": {
        "colab": {
          "base_uri": "https://localhost:8080/"
        },
        "id": "ylO-jLH-cpII",
        "outputId": "5bf403f1-13f6-4064-b634-28e846f68e64"
      },
      "source": [
        "data0.shape"
      ],
      "execution_count": 5,
      "outputs": [
        {
          "output_type": "execute_result",
          "data": {
            "text/plain": [
              "(10784, 8)"
            ]
          },
          "metadata": {},
          "execution_count": 5
        }
      ]
    },
    {
      "cell_type": "code",
      "metadata": {
        "colab": {
          "base_uri": "https://localhost:8080/",
          "height": 0
        },
        "id": "-uFGxRaz9z5Y",
        "outputId": "c2ca48cd-d10c-4228-da21-d1d0a1a09565"
      },
      "source": [
        "#Collecting 5,000 Phishing URLs randomly\n",
        "phis_url = data0.sample(n = 5000, random_state = 12).copy()\n",
        "phis_url = phis_url.reset_index(drop=True)\n",
        "phis_url.head()\n"
      ],
      "execution_count": 6,
      "outputs": [
        {
          "output_type": "execute_result",
          "data": {
            "text/html": [
              "<div>\n",
              "<style scoped>\n",
              "    .dataframe tbody tr th:only-of-type {\n",
              "        vertical-align: middle;\n",
              "    }\n",
              "\n",
              "    .dataframe tbody tr th {\n",
              "        vertical-align: top;\n",
              "    }\n",
              "\n",
              "    .dataframe thead th {\n",
              "        text-align: right;\n",
              "    }\n",
              "</style>\n",
              "<table border=\"1\" class=\"dataframe\">\n",
              "  <thead>\n",
              "    <tr style=\"text-align: right;\">\n",
              "      <th></th>\n",
              "      <th>phish_id</th>\n",
              "      <th>url</th>\n",
              "      <th>phish_detail_url</th>\n",
              "      <th>submission_time</th>\n",
              "      <th>verified</th>\n",
              "      <th>verification_time</th>\n",
              "      <th>online</th>\n",
              "      <th>target</th>\n",
              "    </tr>\n",
              "  </thead>\n",
              "  <tbody>\n",
              "    <tr>\n",
              "      <th>0</th>\n",
              "      <td>7260589</td>\n",
              "      <td>https://hzibupigbnrtqezn-dot-sunlit-center-322...</td>\n",
              "      <td>http://www.phishtank.com/phish_detail.php?phis...</td>\n",
              "      <td>2021-08-10T15:26:24+00:00</td>\n",
              "      <td>yes</td>\n",
              "      <td>2021-08-10T15:49:26+00:00</td>\n",
              "      <td>yes</td>\n",
              "      <td>Other</td>\n",
              "    </tr>\n",
              "    <tr>\n",
              "      <th>1</th>\n",
              "      <td>7251242</td>\n",
              "      <td>http://netttxnet.byethost3.com/</td>\n",
              "      <td>http://www.phishtank.com/phish_detail.php?phis...</td>\n",
              "      <td>2021-07-31T23:57:53+00:00</td>\n",
              "      <td>yes</td>\n",
              "      <td>2021-08-01T00:08:16+00:00</td>\n",
              "      <td>yes</td>\n",
              "      <td>Other</td>\n",
              "    </tr>\n",
              "    <tr>\n",
              "      <th>2</th>\n",
              "      <td>7257550</td>\n",
              "      <td>https://phx.chromeproxy.net/direct/aHR0cHM6Ly9...</td>\n",
              "      <td>http://www.phishtank.com/phish_detail.php?phis...</td>\n",
              "      <td>2021-08-07T02:08:44+00:00</td>\n",
              "      <td>yes</td>\n",
              "      <td>2021-08-07T02:19:40+00:00</td>\n",
              "      <td>yes</td>\n",
              "      <td>Other</td>\n",
              "    </tr>\n",
              "    <tr>\n",
              "      <th>3</th>\n",
              "      <td>6887460</td>\n",
              "      <td>https://midnightluna1.typeform.com/to/bSFSrH4T</td>\n",
              "      <td>http://www.phishtank.com/phish_detail.php?phis...</td>\n",
              "      <td>2020-12-11T23:36:32+00:00</td>\n",
              "      <td>yes</td>\n",
              "      <td>2021-01-02T06:10:46+00:00</td>\n",
              "      <td>yes</td>\n",
              "      <td>Other</td>\n",
              "    </tr>\n",
              "    <tr>\n",
              "      <th>4</th>\n",
              "      <td>6772545</td>\n",
              "      <td>http://caracasmateriais.blogspot.com/</td>\n",
              "      <td>http://www.phishtank.com/phish_detail.php?phis...</td>\n",
              "      <td>2020-09-16T14:49:55+00:00</td>\n",
              "      <td>yes</td>\n",
              "      <td>2020-09-16T17:09:06+00:00</td>\n",
              "      <td>yes</td>\n",
              "      <td>Other</td>\n",
              "    </tr>\n",
              "  </tbody>\n",
              "</table>\n",
              "</div>"
            ],
            "text/plain": [
              "   phish_id                                                url  ... online target\n",
              "0   7260589  https://hzibupigbnrtqezn-dot-sunlit-center-322...  ...    yes  Other\n",
              "1   7251242                    http://netttxnet.byethost3.com/  ...    yes  Other\n",
              "2   7257550  https://phx.chromeproxy.net/direct/aHR0cHM6Ly9...  ...    yes  Other\n",
              "3   6887460     https://midnightluna1.typeform.com/to/bSFSrH4T  ...    yes  Other\n",
              "4   6772545              http://caracasmateriais.blogspot.com/  ...    yes  Other\n",
              "\n",
              "[5 rows x 8 columns]"
            ]
          },
          "metadata": {},
          "execution_count": 6
        }
      ]
    },
    {
      "cell_type": "markdown",
      "metadata": {
        "id": "wV3wx4M4Urqy"
      },
      "source": [
        "> # **Address Bar Based Features**\n",
        "\n",
        "\n",
        "\n"
      ]
    },
    {
      "cell_type": "markdown",
      "metadata": {
        "id": "Vt-Y1gY9d141"
      },
      "source": [
        "> **1.1 Extracting Legitimate URLs:**"
      ]
    },
    {
      "cell_type": "code",
      "metadata": {
        "id": "Xw0ciCxKfqv3"
      },
      "source": [
        "data1 = pd.read_csv('/content/drive/MyDrive/Colab Notebooks/Datasets/Benign_list.csv')"
      ],
      "execution_count": 7,
      "outputs": []
    },
    {
      "cell_type": "code",
      "metadata": {
        "colab": {
          "base_uri": "https://localhost:8080/",
          "height": 0
        },
        "id": "Utwg_t185A5T",
        "outputId": "f103a089-3e87-4f7b-ecbc-942e85fcb173"
      },
      "source": [
        "data1.columns = ['URLs']\n",
        "\n",
        "data1.head()"
      ],
      "execution_count": 8,
      "outputs": [
        {
          "output_type": "execute_result",
          "data": {
            "text/html": [
              "<div>\n",
              "<style scoped>\n",
              "    .dataframe tbody tr th:only-of-type {\n",
              "        vertical-align: middle;\n",
              "    }\n",
              "\n",
              "    .dataframe tbody tr th {\n",
              "        vertical-align: top;\n",
              "    }\n",
              "\n",
              "    .dataframe thead th {\n",
              "        text-align: right;\n",
              "    }\n",
              "</style>\n",
              "<table border=\"1\" class=\"dataframe\">\n",
              "  <thead>\n",
              "    <tr style=\"text-align: right;\">\n",
              "      <th></th>\n",
              "      <th>URLs</th>\n",
              "    </tr>\n",
              "  </thead>\n",
              "  <tbody>\n",
              "    <tr>\n",
              "      <th>0</th>\n",
              "      <td>http://1337x.to/torrent/1110018/Blackhat-2015-...</td>\n",
              "    </tr>\n",
              "    <tr>\n",
              "      <th>1</th>\n",
              "      <td>http://1337x.to/torrent/1122940/Blackhat-2015-...</td>\n",
              "    </tr>\n",
              "    <tr>\n",
              "      <th>2</th>\n",
              "      <td>http://1337x.to/torrent/1124395/Fast-and-Furio...</td>\n",
              "    </tr>\n",
              "    <tr>\n",
              "      <th>3</th>\n",
              "      <td>http://1337x.to/torrent/1145504/Avengers-Age-o...</td>\n",
              "    </tr>\n",
              "    <tr>\n",
              "      <th>4</th>\n",
              "      <td>http://1337x.to/torrent/1160078/Avengers-age-o...</td>\n",
              "    </tr>\n",
              "  </tbody>\n",
              "</table>\n",
              "</div>"
            ],
            "text/plain": [
              "                                                URLs\n",
              "0  http://1337x.to/torrent/1110018/Blackhat-2015-...\n",
              "1  http://1337x.to/torrent/1122940/Blackhat-2015-...\n",
              "2  http://1337x.to/torrent/1124395/Fast-and-Furio...\n",
              "3  http://1337x.to/torrent/1145504/Avengers-Age-o...\n",
              "4  http://1337x.to/torrent/1160078/Avengers-age-o..."
            ]
          },
          "metadata": {},
          "execution_count": 8
        }
      ]
    },
    {
      "cell_type": "code",
      "metadata": {
        "colab": {
          "base_uri": "https://localhost:8080/"
        },
        "id": "66oenxaJf3W1",
        "outputId": "f15a908f-fe7b-43c6-a40b-46ffece2739d"
      },
      "source": [
        "data1.shape"
      ],
      "execution_count": 9,
      "outputs": [
        {
          "output_type": "execute_result",
          "data": {
            "text/plain": [
              "(35377, 1)"
            ]
          },
          "metadata": {},
          "execution_count": 9
        }
      ]
    },
    {
      "cell_type": "code",
      "metadata": {
        "colab": {
          "base_uri": "https://localhost:8080/",
          "height": 0
        },
        "id": "cc-l7rQg-AMo",
        "outputId": "41e191a2-99ea-4007-cb46-b49084fbe4dd"
      },
      "source": [
        "#Collecting 5,000 Legitimate URLs randomly\n",
        "legi_url = data1.sample(n = 5000, random_state = 12).copy()\n",
        "legi_url = legi_url.reset_index(drop=True)\n",
        "legi_url.head()\n"
      ],
      "execution_count": 10,
      "outputs": [
        {
          "output_type": "execute_result",
          "data": {
            "text/html": [
              "<div>\n",
              "<style scoped>\n",
              "    .dataframe tbody tr th:only-of-type {\n",
              "        vertical-align: middle;\n",
              "    }\n",
              "\n",
              "    .dataframe tbody tr th {\n",
              "        vertical-align: top;\n",
              "    }\n",
              "\n",
              "    .dataframe thead th {\n",
              "        text-align: right;\n",
              "    }\n",
              "</style>\n",
              "<table border=\"1\" class=\"dataframe\">\n",
              "  <thead>\n",
              "    <tr style=\"text-align: right;\">\n",
              "      <th></th>\n",
              "      <th>URLs</th>\n",
              "    </tr>\n",
              "  </thead>\n",
              "  <tbody>\n",
              "    <tr>\n",
              "      <th>0</th>\n",
              "      <td>http://graphicriver.net/search?date=this-month...</td>\n",
              "    </tr>\n",
              "    <tr>\n",
              "      <th>1</th>\n",
              "      <td>http://ecnavi.jp/redirect/?url=http://www.cros...</td>\n",
              "    </tr>\n",
              "    <tr>\n",
              "      <th>2</th>\n",
              "      <td>https://hubpages.com/signin?explain=follow+Hub...</td>\n",
              "    </tr>\n",
              "    <tr>\n",
              "      <th>3</th>\n",
              "      <td>http://extratorrent.cc/torrent/4190536/AOMEI+B...</td>\n",
              "    </tr>\n",
              "    <tr>\n",
              "      <th>4</th>\n",
              "      <td>http://icicibank.com/Personal-Banking/offers/o...</td>\n",
              "    </tr>\n",
              "  </tbody>\n",
              "</table>\n",
              "</div>"
            ],
            "text/plain": [
              "                                                URLs\n",
              "0  http://graphicriver.net/search?date=this-month...\n",
              "1  http://ecnavi.jp/redirect/?url=http://www.cros...\n",
              "2  https://hubpages.com/signin?explain=follow+Hub...\n",
              "3  http://extratorrent.cc/torrent/4190536/AOMEI+B...\n",
              "4  http://icicibank.com/Personal-Banking/offers/o..."
            ]
          },
          "metadata": {},
          "execution_count": 10
        }
      ]
    },
    {
      "cell_type": "code",
      "metadata": {
        "colab": {
          "base_uri": "https://localhost:8080/"
        },
        "id": "5AZi5ouZhocH",
        "outputId": "310a9335-9892-45e3-9f58-23793d207b4b"
      },
      "source": [
        "!pip install bs4\n"
      ],
      "execution_count": 11,
      "outputs": [
        {
          "output_type": "stream",
          "name": "stdout",
          "text": [
            "Requirement already satisfied: bs4 in /usr/local/lib/python3.7/dist-packages (0.0.1)\n",
            "Requirement already satisfied: beautifulsoup4 in /usr/local/lib/python3.7/dist-packages (from bs4) (4.6.3)\n"
          ]
        }
      ]
    },
    {
      "cell_type": "markdown",
      "metadata": {
        "id": "NOc-mTNLhCEh"
      },
      "source": [
        "> **1.1 Extracting Domain of the url**"
      ]
    },
    {
      "cell_type": "code",
      "metadata": {
        "id": "Dj7hIzCkhGL5"
      },
      "source": [
        "import requests\n",
        "import re"
      ],
      "execution_count": 12,
      "outputs": []
    },
    {
      "cell_type": "code",
      "metadata": {
        "colab": {
          "base_uri": "https://localhost:8080/"
        },
        "id": "iB87CjQWjKDt",
        "outputId": "16c8335e-d20b-4f22-9378-24136e546053"
      },
      "source": [
        "!pip install bs4"
      ],
      "execution_count": 13,
      "outputs": [
        {
          "output_type": "stream",
          "name": "stdout",
          "text": [
            "Requirement already satisfied: bs4 in /usr/local/lib/python3.7/dist-packages (0.0.1)\n",
            "Requirement already satisfied: beautifulsoup4 in /usr/local/lib/python3.7/dist-packages (from bs4) (4.6.3)\n"
          ]
        }
      ]
    },
    {
      "cell_type": "code",
      "metadata": {
        "id": "16EofFJUkUKL",
        "colab": {
          "base_uri": "https://localhost:8080/"
        },
        "outputId": "808d1482-eea7-4073-ad10-0caf95534060"
      },
      "source": [
        "!pwd"
      ],
      "execution_count": 14,
      "outputs": [
        {
          "output_type": "stream",
          "name": "stdout",
          "text": [
            "/content\n"
          ]
        }
      ]
    },
    {
      "cell_type": "code",
      "metadata": {
        "id": "-pBERy5sk-xh"
      },
      "source": [
        "from bs4 import BeautifulSoup\n",
        "from urllib.parse import urlparse\n"
      ],
      "execution_count": 15,
      "outputs": []
    },
    {
      "cell_type": "code",
      "metadata": {
        "id": "3xP1_GTSlg9V"
      },
      "source": [
        "def getDomain(url): \n",
        "  domain = urlparse(url).netloc\n",
        "  if re.match(r\"^www.\",domain):\n",
        "\t       domain = domain.replace(\"www.\",\"\")\n",
        "  return domain\n"
      ],
      "execution_count": 16,
      "outputs": []
    },
    {
      "cell_type": "code",
      "metadata": {
        "colab": {
          "base_uri": "https://localhost:8080/",
          "height": 0
        },
        "id": "y1z1WCmcmH1-",
        "outputId": "c86002ae-f777-4b2b-ca93-d6762734c0d5"
      },
      "source": [
        "#checking if getDomain works\n",
        "getDomain('https://www.youtube.com/results?search_query=extracting+url+information')"
      ],
      "execution_count": 17,
      "outputs": [
        {
          "output_type": "execute_result",
          "data": {
            "application/vnd.google.colaboratory.intrinsic+json": {
              "type": "string"
            },
            "text/plain": [
              "'youtube.com'"
            ]
          },
          "metadata": {},
          "execution_count": 17
        }
      ]
    },
    {
      "cell_type": "code",
      "metadata": {
        "colab": {
          "base_uri": "https://localhost:8080/"
        },
        "id": "Lk8a0nwpp5rX",
        "outputId": "ab8a6386-a3ce-4089-e08e-eb030c410514"
      },
      "source": [
        "!pip install ipaddress"
      ],
      "execution_count": 18,
      "outputs": [
        {
          "output_type": "stream",
          "name": "stdout",
          "text": [
            "Collecting ipaddress\n",
            "  Downloading ipaddress-1.0.23-py2.py3-none-any.whl (18 kB)\n",
            "Installing collected packages: ipaddress\n",
            "Successfully installed ipaddress-1.0.23\n"
          ]
        }
      ]
    },
    {
      "cell_type": "markdown",
      "metadata": {
        "id": "EBfEsPZ6_YsT"
      },
      "source": [
        "> **1.2 Extracting ipaddress from the url**"
      ]
    },
    {
      "cell_type": "code",
      "metadata": {
        "id": "JAoIkeekmTaz"
      },
      "source": [
        "#checking if url contains an IP address\n",
        "import ipaddress\n",
        "def haveIP(url):\n",
        "  try:\n",
        "    ipaddress.ip_address(url)\n",
        "    ip = 1\n",
        "  except:\n",
        "    ip = 0\n",
        "  return ip"
      ],
      "execution_count": 19,
      "outputs": []
    },
    {
      "cell_type": "code",
      "metadata": {
        "colab": {
          "base_uri": "https://localhost:8080/"
        },
        "id": "Xp_9ZZKAoL6l",
        "outputId": "32d5e0a6-3760-456e-9eca-635eb4b25aa3"
      },
      "source": [
        "#checking the haveIP fun\n",
        "x = '127.0.0.1'\n",
        "print( haveIP(x) ) \n",
        "x = 'www.google.com'\n",
        "print ( haveIP(x) ) "
      ],
      "execution_count": 20,
      "outputs": [
        {
          "output_type": "stream",
          "name": "stdout",
          "text": [
            "1\n",
            "0\n"
          ]
        }
      ]
    },
    {
      "cell_type": "markdown",
      "metadata": {
        "id": "uKmubJo0_aNs"
      },
      "source": [
        "> **1.3 Extracting *@* symbol from the url**\n",
        "\n",
        "\n"
      ]
    },
    {
      "cell_type": "code",
      "metadata": {
        "id": "w71G209MrOoS"
      },
      "source": [
        "#Checking for @ symbol in the URL\n",
        "def haveAt(url): \n",
        "  if '@' in url: \n",
        "    return 1\n",
        "  else:\n",
        "    return 0"
      ],
      "execution_count": 21,
      "outputs": []
    },
    {
      "cell_type": "code",
      "metadata": {
        "colab": {
          "base_uri": "https://localhost:8080/"
        },
        "id": "iTBYaRjYsveK",
        "outputId": "25ab674a-38bd-4d92-80c6-033f85826160"
      },
      "source": [
        "#checking the have_at fun\n",
        "x = 'www.google.com'\n",
        "y = 'www.yahoo@gmail.com'\n",
        "print( haveAt(x) ) \n",
        "print( haveAt(y) ) "
      ],
      "execution_count": 22,
      "outputs": [
        {
          "output_type": "stream",
          "name": "stdout",
          "text": [
            "0\n",
            "1\n"
          ]
        }
      ]
    },
    {
      "cell_type": "markdown",
      "metadata": {
        "id": "NETylubl_hOO"
      },
      "source": [
        "> **1.4 Extracting the length of url**"
      ]
    },
    {
      "cell_type": "code",
      "metadata": {
        "id": "hT5f3RbntZGm"
      },
      "source": [
        "#Checking the length of the URL\n",
        "def urlLength(url): \n",
        "  if len(url) < 54: \n",
        "    return 0\n",
        "  else: \n",
        "    return 1"
      ],
      "execution_count": 23,
      "outputs": []
    },
    {
      "cell_type": "markdown",
      "metadata": {
        "id": "wjVqmAus_lua"
      },
      "source": [
        "> **1.5 Extracting the tiny URL shotners from the url**"
      ]
    },
    {
      "cell_type": "code",
      "metadata": {
        "id": "nvSlwjS0xj4i"
      },
      "source": [
        "#Checking if the url uses tinyUrl services\n",
        "\n",
        "short_url_services =  r\"bit\\.ly|goo\\.gl|shorte\\.st|go2l\\.ink|x\\.co|ow\\.ly|t\\.co|tinyurl|tr\\.im|is\\.gd|cli\\.gs|\" \\\n",
        "                      r\"yfrog\\.com|migre\\.me|ff\\.im|tiny\\.cc|url4\\.eu|twit\\.ac|su\\.pr|twurl\\.nl|snipurl\\.com|\" \\\n",
        "                      r\"short\\.to|BudURL\\.com|ping\\.fm|post\\.ly|Just\\.as|bkite\\.com|snipr\\.com|fic\\.kr|loopt\\.us|\" \\\n",
        "                      r\"doiop\\.com|short\\.ie|kl\\.am|wp\\.me|rubyurl\\.com|om\\.ly|to\\.ly|bit\\.do|t\\.co|lnkd\\.in|db\\.tt|\" \\\n",
        "                      r\"qr\\.ae|adf\\.ly|goo\\.gl|bitly\\.com|cur\\.lv|tinyurl\\.com|ow\\.ly|bit\\.ly|ity\\.im|q\\.gs|is\\.gd|\" \\\n",
        "                      r\"po\\.st|bc\\.vc|twitthis\\.com|u\\.to|j\\.mp|buzurl\\.com|cutt\\.us|u\\.bb|yourls\\.org|x\\.co|\" \\\n",
        "                      r\"prettylinkpro\\.com|scrnch\\.me|filoops\\.info|vzturl\\.com|qr\\.net|1url\\.com|tweez\\.me|v\\.gd|\" \\\n",
        "                      r\"tr\\.im|link\\.zip\\.net\""
      ],
      "execution_count": 24,
      "outputs": []
    },
    {
      "cell_type": "code",
      "metadata": {
        "id": "YboKZ0t68x7H"
      },
      "source": [
        "def usesTinyUrl(url):      \n",
        "  temp = re.search(short_url_services, url)\n",
        "  if(temp):\n",
        "    return 1\n",
        "  else: \n",
        "    return 0"
      ],
      "execution_count": 25,
      "outputs": []
    },
    {
      "cell_type": "code",
      "metadata": {
        "colab": {
          "base_uri": "https://localhost:8080/"
        },
        "id": "Djx_AHiczZRB",
        "outputId": "f1a5b616-4cdc-4f36-fe8b-a5979f16457b"
      },
      "source": [
        "#checking UsesTinyUrl fun\n",
        "x = 'bit.ly/19DXSk4'\n",
        "y = 'www.yahoo.com'\n",
        "print( usesTinyUrl(x) ) \n",
        "print( usesTinyUrl(y) ) "
      ],
      "execution_count": 26,
      "outputs": [
        {
          "output_type": "stream",
          "name": "stdout",
          "text": [
            "1\n",
            "0\n"
          ]
        }
      ]
    },
    {
      "cell_type": "markdown",
      "metadata": {
        "id": "KjQZAUqU_vya"
      },
      "source": [
        "> **1.6 Extracting the hyphens from the url**"
      ]
    },
    {
      "cell_type": "code",
      "metadata": {
        "id": "X68VmCNjzn5U"
      },
      "source": [
        "#Checking if URL contains '-'. \n",
        "def haveHyphen(url): \n",
        "  if '-' in urlparse(url).netloc:\n",
        "    return 1            # phishing\n",
        "  else:\n",
        "    return 0            # legitimate\n"
      ],
      "execution_count": 27,
      "outputs": []
    },
    {
      "cell_type": "code",
      "metadata": {
        "colab": {
          "base_uri": "https://localhost:8080/"
        },
        "id": "jGmmQ_B20bsW",
        "outputId": "3b919fd8-1e11-4d51-a593-9a737fa1beaa"
      },
      "source": [
        "#checking the haveHypen\n",
        "print( haveHyphen('www.pay-tm.com') ) \n",
        "print( haveHyphen('www.google--pay-1.com'))"
      ],
      "execution_count": 28,
      "outputs": [
        {
          "output_type": "stream",
          "name": "stdout",
          "text": [
            "0\n",
            "0\n"
          ]
        }
      ]
    },
    {
      "cell_type": "code",
      "metadata": {
        "colab": {
          "base_uri": "https://localhost:8080/"
        },
        "id": "aaoxKKKH3SS4",
        "outputId": "40b2ab86-3475-4b7e-f331-4f82174fc8da"
      },
      "source": [
        "!pip install tldextract"
      ],
      "execution_count": 29,
      "outputs": [
        {
          "output_type": "stream",
          "name": "stdout",
          "text": [
            "Collecting tldextract\n",
            "  Downloading tldextract-3.1.2-py2.py3-none-any.whl (87 kB)\n",
            "\u001b[?25l\r\u001b[K     |███▊                            | 10 kB 22.8 MB/s eta 0:00:01\r\u001b[K     |███████▌                        | 20 kB 27.2 MB/s eta 0:00:01\r\u001b[K     |███████████▎                    | 30 kB 23.1 MB/s eta 0:00:01\r\u001b[K     |███████████████                 | 40 kB 19.5 MB/s eta 0:00:01\r\u001b[K     |██████████████████▉             | 51 kB 7.3 MB/s eta 0:00:01\r\u001b[K     |██████████████████████▋         | 61 kB 7.9 MB/s eta 0:00:01\r\u001b[K     |██████████████████████████▍     | 71 kB 7.0 MB/s eta 0:00:01\r\u001b[K     |██████████████████████████████  | 81 kB 7.8 MB/s eta 0:00:01\r\u001b[K     |████████████████████████████████| 87 kB 3.6 MB/s \n",
            "\u001b[?25hCollecting requests-file>=1.4\n",
            "  Downloading requests_file-1.5.1-py2.py3-none-any.whl (3.7 kB)\n",
            "Requirement already satisfied: idna in /usr/local/lib/python3.7/dist-packages (from tldextract) (2.10)\n",
            "Requirement already satisfied: filelock>=3.0.8 in /usr/local/lib/python3.7/dist-packages (from tldextract) (3.4.0)\n",
            "Requirement already satisfied: requests>=2.1.0 in /usr/local/lib/python3.7/dist-packages (from tldextract) (2.23.0)\n",
            "Requirement already satisfied: urllib3!=1.25.0,!=1.25.1,<1.26,>=1.21.1 in /usr/local/lib/python3.7/dist-packages (from requests>=2.1.0->tldextract) (1.24.3)\n",
            "Requirement already satisfied: certifi>=2017.4.17 in /usr/local/lib/python3.7/dist-packages (from requests>=2.1.0->tldextract) (2021.10.8)\n",
            "Requirement already satisfied: chardet<4,>=3.0.2 in /usr/local/lib/python3.7/dist-packages (from requests>=2.1.0->tldextract) (3.0.4)\n",
            "Requirement already satisfied: six in /usr/local/lib/python3.7/dist-packages (from requests-file>=1.4->tldextract) (1.15.0)\n",
            "Installing collected packages: requests-file, tldextract\n",
            "Successfully installed requests-file-1.5.1 tldextract-3.1.2\n"
          ]
        }
      ]
    },
    {
      "cell_type": "markdown",
      "metadata": {
        "id": "XXp4UhwsA2xg"
      },
      "source": [
        "> **1.7Extracting subdomains from the url.**"
      ]
    },
    {
      "cell_type": "code",
      "metadata": {
        "id": "TubLpWYP0lQQ"
      },
      "source": [
        "#checking if the Url have multi sub domain\n",
        "#Not working currently\n",
        "import tldextract\n",
        "def multiSubDomain(url):   \n",
        "  x = tldextract.extract(url)\n",
        "  print(x)\n",
        "\n"
      ],
      "execution_count": 30,
      "outputs": []
    },
    {
      "cell_type": "code",
      "metadata": {
        "colab": {
          "base_uri": "https://localhost:8080/"
        },
        "id": "bVkR7T091pIy",
        "outputId": "4beed88c-1fa2-4e8c-c29c-19123dd16fb7"
      },
      "source": [
        "#checking multi sub domain \n",
        "x = 'https://www1.eposcard-co-jp-mcmbresreviec.s20r084.abc.def.ghi.cn/'\n",
        "y = 'http://www.hud.ac.uk/students/page1.html'\n",
        "print ( multiSubDomain(x) )\n",
        "print ( multiSubDomain(y) ) "
      ],
      "execution_count": 31,
      "outputs": [
        {
          "output_type": "stream",
          "name": "stdout",
          "text": [
            "ExtractResult(subdomain='www1.eposcard-co-jp-mcmbresreviec.s20r084.abc.def', domain='ghi', suffix='cn')\n",
            "None\n",
            "ExtractResult(subdomain='www', domain='hud', suffix='ac.uk')\n",
            "None\n"
          ]
        }
      ]
    },
    {
      "cell_type": "markdown",
      "metadata": {
        "id": "VQJ9IZOx4Vcd"
      },
      "source": [
        "> **1.8 Extracting `//` from the url**"
      ]
    },
    {
      "cell_type": "code",
      "metadata": {
        "id": "KCs2pEdbBRTK"
      },
      "source": [
        "#finding the depth of // from the url\n",
        "def redirection(url):\n",
        "  pos = url.rfind('//')\n",
        "  if pos > 6:\n",
        "    if pos > 7:\n",
        "      return 1\n",
        "    else:\n",
        "      return 0\n",
        "  else:\n",
        "    return 0"
      ],
      "execution_count": 32,
      "outputs": []
    },
    {
      "cell_type": "code",
      "metadata": {
        "colab": {
          "base_uri": "https://localhost:8080/"
        },
        "id": "5WjeqsfpCpJA",
        "outputId": "4751e2e9-6925-4a38-a041-48b4b4eaa8ce"
      },
      "source": [
        "#checking the redirection \n",
        "x = 'http://eprints.hud.ac.uk/id/eprint/24330/6/MohammadPhishing14July2015.pdf'\n",
        "print( redirection(x) )"
      ],
      "execution_count": 33,
      "outputs": [
        {
          "output_type": "stream",
          "name": "stdout",
          "text": [
            "0\n"
          ]
        }
      ]
    },
    {
      "cell_type": "markdown",
      "metadata": {
        "id": "HycSvzLeCy90"
      },
      "source": [
        "> **1.9 Extracting the HTTPs certificate age and issuer**"
      ]
    },
    {
      "cell_type": "code",
      "metadata": {
        "colab": {
          "base_uri": "https://localhost:8080/"
        },
        "id": "6lkPR5e7FHaE",
        "outputId": "14debac3-cc90-44d9-bcec-90d8f91ef41b"
      },
      "source": [
        "import requests\n",
        "#not working correctly\n",
        "\n",
        "response = requests.get('https://stackoverflow.com/questions/29773003/check-whether-domain-is-registered')\n",
        "print(response)"
      ],
      "execution_count": 34,
      "outputs": [
        {
          "output_type": "stream",
          "name": "stdout",
          "text": [
            "<Response [200]>\n"
          ]
        }
      ]
    },
    {
      "cell_type": "markdown",
      "metadata": {
        "id": "gyo0tegXFV3R"
      },
      "source": [
        "> **1.10 Extracting domain registration length**"
      ]
    },
    {
      "cell_type": "code",
      "metadata": {
        "colab": {
          "base_uri": "https://localhost:8080/"
        },
        "id": "dJ6UVm4XHvBz",
        "outputId": "e61ff0d9-c5e5-4dc8-8298-2207ba90dd85"
      },
      "source": [
        "pip install python-whois"
      ],
      "execution_count": 35,
      "outputs": [
        {
          "output_type": "stream",
          "name": "stdout",
          "text": [
            "Collecting python-whois\n",
            "  Downloading python-whois-0.7.3.tar.gz (91 kB)\n",
            "\u001b[?25l\r\u001b[K     |███▋                            | 10 kB 23.1 MB/s eta 0:00:01\r\u001b[K     |███████▏                        | 20 kB 24.4 MB/s eta 0:00:01\r\u001b[K     |██████████▊                     | 30 kB 29.0 MB/s eta 0:00:01\r\u001b[K     |██████████████▎                 | 40 kB 22.4 MB/s eta 0:00:01\r\u001b[K     |██████████████████              | 51 kB 11.7 MB/s eta 0:00:01\r\u001b[K     |█████████████████████▌          | 61 kB 9.8 MB/s eta 0:00:01\r\u001b[K     |█████████████████████████       | 71 kB 9.7 MB/s eta 0:00:01\r\u001b[K     |████████████████████████████▋   | 81 kB 10.7 MB/s eta 0:00:01\r\u001b[K     |████████████████████████████████| 91 kB 5.0 MB/s \n",
            "\u001b[?25hRequirement already satisfied: future in /usr/local/lib/python3.7/dist-packages (from python-whois) (0.16.0)\n",
            "Building wheels for collected packages: python-whois\n",
            "  Building wheel for python-whois (setup.py) ... \u001b[?25l\u001b[?25hdone\n",
            "  Created wheel for python-whois: filename=python_whois-0.7.3-py3-none-any.whl size=87721 sha256=61403b5ba1af507cf44ca5f9d72a50a5a9ff49e9debdf2a20e5a1cf0668e9222\n",
            "  Stored in directory: /root/.cache/pip/wheels/11/05/f7/895ce5a73665f77c8274a7d55e34fb3e6b4abbb9a7637e215b\n",
            "Successfully built python-whois\n",
            "Installing collected packages: python-whois\n",
            "Successfully installed python-whois-0.7.3\n"
          ]
        }
      ]
    },
    {
      "cell_type": "code",
      "metadata": {
        "id": "S89WM7YCGWOz"
      },
      "source": [
        "#finding the domani registration date from the url\n",
        "import whois \n",
        "from datetime import datetime\n",
        "from dateutil.relativedelta import relativedelta\n",
        "def domainRegLength(url):\n",
        "  try: \n",
        "    temp = whois.whois(url)      \n",
        "    #print(datetime.today(), ' credate ', temp.creation_date[0])  \n",
        "    return relativedelta(datetime.today(), temp.creation_date[0]).years\n",
        "  except: \n",
        "    return 0"
      ],
      "execution_count": 36,
      "outputs": []
    },
    {
      "cell_type": "code",
      "metadata": {
        "colab": {
          "base_uri": "https://localhost:8080/"
        },
        "id": "STfI6sMSJJ6R",
        "outputId": "5e3a18c8-46dc-4cf2-8a8e-f3e2a075d555"
      },
      "source": [
        "#checking the domdin reg len fun\n",
        "x = 'www.google.com'\n",
        "y = 'http://u1047531.cp.regruhosting.ru/acces-inges-20200104-t452/3facd/'\n",
        "print( domainRegLength(x) )\n",
        "print ( domainRegLength(y) ) \n",
        "\n"
      ],
      "execution_count": 37,
      "outputs": [
        {
          "output_type": "stream",
          "name": "stdout",
          "text": [
            "24\n",
            "0\n"
          ]
        }
      ]
    },
    {
      "cell_type": "markdown",
      "metadata": {
        "id": "gYJIEfm0Jd1V"
      },
      "source": [
        "> **1.10 Extracting hidden https token in domain**\n"
      ]
    },
    {
      "cell_type": "code",
      "metadata": {
        "colab": {
          "base_uri": "https://localhost:8080/"
        },
        "id": "2QiGnCB6SukE",
        "outputId": "3ca4d487-1f2a-4c85-edc0-42176077bdc3"
      },
      "source": [
        "#checking the existense of hidden http/https\n",
        "def hiddenhttps(url): \n",
        "  domain = urlparse(url).netloc\n",
        "  print(domain)\n",
        "  if 'https' in domain: \n",
        "    return 1\n",
        "  else: \n",
        "    return 0\n",
        "\n",
        "#checking the working of above fun\n",
        "x = 'https://open.spotify.com/playlist/3mHGpdWE9oxUjcNZJvCkBe'\n",
        "y = 'http://https-www-paypal-it-webapps-mpp-home.soft-hair.com/'\n",
        "z = 'https://http-www-paypal-it-webapps-mpp-home.soft-hair.com/'\n",
        "hiddenhttps(z)"
      ],
      "execution_count": 38,
      "outputs": [
        {
          "output_type": "stream",
          "name": "stdout",
          "text": [
            "http-www-paypal-it-webapps-mpp-home.soft-hair.com\n"
          ]
        },
        {
          "output_type": "execute_result",
          "data": {
            "text/plain": [
              "0"
            ]
          },
          "metadata": {},
          "execution_count": 38
        }
      ]
    },
    {
      "cell_type": "markdown",
      "metadata": {
        "id": "iS4u2CsLz_5O"
      },
      "source": [
        "> **1.11 Extracting Depth of the URL**\n"
      ]
    },
    {
      "cell_type": "code",
      "metadata": {
        "id": "-hI8HHnj0Fjj"
      },
      "source": [
        "def getDepth(url):\n",
        "  s = urlparse(url).path.split('/')\n",
        "  depth = 0\n",
        "  for j in range(len(s)):\n",
        "    if len(s[j]) != 0:\n",
        "      depth = depth+1\n",
        "  return depth\n"
      ],
      "execution_count": 39,
      "outputs": []
    },
    {
      "cell_type": "markdown",
      "metadata": {
        "id": "M1PaqYikTcWs"
      },
      "source": [
        "> #  **Domain Based Features**\n",
        "\n",
        "\n"
      ]
    },
    {
      "cell_type": "markdown",
      "metadata": {
        "id": "f_FXce3UVqY5"
      },
      "source": [
        "> **2.1 Web Traffic**"
      ]
    },
    {
      "cell_type": "code",
      "metadata": {
        "colab": {
          "base_uri": "https://localhost:8080/"
        },
        "id": "yoV392xh2JL3",
        "outputId": "8904b89f-2e9f-4249-df4a-4ba3be744942"
      },
      "source": [
        "!wget http://s3.amazonaws.com/alexa-static/top-1m.csv.zip\n",
        "!unzip -o top-1m.csv.zip"
      ],
      "execution_count": 40,
      "outputs": [
        {
          "output_type": "stream",
          "name": "stdout",
          "text": [
            "--2021-12-12 08:02:41--  http://s3.amazonaws.com/alexa-static/top-1m.csv.zip\n",
            "Resolving s3.amazonaws.com (s3.amazonaws.com)... 52.217.140.96\n",
            "Connecting to s3.amazonaws.com (s3.amazonaws.com)|52.217.140.96|:80... connected.\n",
            "HTTP request sent, awaiting response... 200 OK\n",
            "Length: 5149325 (4.9M) [application/zip]\n",
            "Saving to: ‘top-1m.csv.zip’\n",
            "\n",
            "top-1m.csv.zip      100%[===================>]   4.91M  9.76MB/s    in 0.5s    \n",
            "\n",
            "2021-12-12 08:02:42 (9.76 MB/s) - ‘top-1m.csv.zip’ saved [5149325/5149325]\n",
            "\n",
            "Archive:  top-1m.csv.zip\n",
            "  inflating: top-1m.csv              \n"
          ]
        }
      ]
    },
    {
      "cell_type": "code",
      "metadata": {
        "id": "0BJ2G29Ml6Qt",
        "colab": {
          "base_uri": "https://localhost:8080/",
          "height": 0
        },
        "outputId": "22f7e0a9-94dd-43c7-c90f-e1742dcc55a0"
      },
      "source": [
        "#If the rank of the domain < 100000, the vlaue of this feature is 1 (phishing) else 0 (legitimate).\n",
        "'''\n",
        "import urllib\n",
        "import urllib.request\n",
        "\n",
        "def web_traffic(url):\n",
        "  try:\n",
        "    #Filling the whitespaces in the URL if any\n",
        "    url = urllib.parse.quote(url)\n",
        "    rank = BeautifulSoup(urllib.request.urlopen(\"http://data.alexa.com/data?cli=10&dat=s&url=\" + url).read(), \"xml\").find(\"REACH\")['RANK']\n",
        "    rank = int(rank)\n",
        "  except TypeError:\n",
        "        return 1\n",
        "  if rank <100000:\n",
        "    return 1\n",
        "  else:\n",
        "    return 0\n",
        "'''\n"
      ],
      "execution_count": 41,
      "outputs": [
        {
          "output_type": "execute_result",
          "data": {
            "application/vnd.google.colaboratory.intrinsic+json": {
              "type": "string"
            },
            "text/plain": [
              "'\\nimport urllib\\nimport urllib.request\\n\\ndef web_traffic(url):\\n  try:\\n    #Filling the whitespaces in the URL if any\\n    url = urllib.parse.quote(url)\\n    rank = BeautifulSoup(urllib.request.urlopen(\"http://data.alexa.com/data?cli=10&dat=s&url=\" + url).read(), \"xml\").find(\"REACH\")[\\'RANK\\']\\n    rank = int(rank)\\n  except TypeError:\\n        return 1\\n  if rank <100000:\\n    return 1\\n  else:\\n    return 0\\n'"
            ]
          },
          "metadata": {},
          "execution_count": 41
        }
      ]
    },
    {
      "cell_type": "code",
      "metadata": {
        "id": "HEgqTuYm230T"
      },
      "source": [
        "# Newly updated from github\n",
        "import csv\n",
        "with open('top-1m.csv') as f:\n",
        "    reader = csv.reader(f)\n",
        "    alexa = list(reader)\n"
      ],
      "execution_count": 42,
      "outputs": []
    },
    {
      "cell_type": "code",
      "metadata": {
        "id": "ysD-5j3N2PSE"
      },
      "source": [
        "def web_traffic(url):\n",
        "  domain = getDomain(url)\n",
        "  try:\n",
        "    rank = [i for i, v in enumerate(alexa) if v[1] == domain][0] + 1\n",
        "  except:\n",
        "    return 0\n",
        "  if rank <100000:\n",
        "    return 1\n",
        "  else:\n",
        "    return 0\n"
      ],
      "execution_count": 43,
      "outputs": []
    },
    {
      "cell_type": "markdown",
      "metadata": {
        "id": "kjllhugXyh5W"
      },
      "source": [
        "> **2.2 Age of Domain**"
      ]
    },
    {
      "cell_type": "code",
      "metadata": {
        "id": "0f061bpxyiwp"
      },
      "source": [
        "#If age of domain > 12 months, the vlaue of this feature is 1 (phishing) else 0 (legitimate).\n",
        "def domainAge(domain_name):\n",
        "  creation_date = domain_name.creation_date\n",
        "  expiration_date = domain_name.expiration_date\n",
        "  if (isinstance(creation_date,str) or isinstance(expiration_date,str)):\n",
        "    try:\n",
        "      creation_date = datetime.strptime(creation_date,'%Y-%m-%d')\n",
        "      expiration_date = datetime.strptime(expiration_date,\"%Y-%m-%d\")\n",
        "    except:\n",
        "      return 1\n",
        "  if ((expiration_date is None) or (creation_date is None)):\n",
        "      return 1\n",
        "  elif ((type(expiration_date) is list) or (type(creation_date) is list)):\n",
        "      return 1\n",
        "  else:\n",
        "    ageofdomain = abs((expiration_date - creation_date).days)\n",
        "    if ((ageofdomain/30) < 6):\n",
        "      age = 1\n",
        "    else:\n",
        "      age = 0\n",
        "  return age\n"
      ],
      "execution_count": 44,
      "outputs": []
    },
    {
      "cell_type": "markdown",
      "metadata": {
        "id": "BzqArVLzyitn"
      },
      "source": [
        "> **2.3 End Period of Domain**"
      ]
    },
    {
      "cell_type": "code",
      "metadata": {
        "id": "ASW3c5kOyiq1"
      },
      "source": [
        "#If end period of domain > 6 months, the vlaue of this feature is 1 (phishing) else 0 (legitimate).\n",
        "def domainEnd(domain_name):\n",
        "  expiration_date = domain_name.expiration_date\n",
        "  if isinstance(expiration_date,str):\n",
        "    try:\n",
        "      expiration_date = datetime.strptime(expiration_date,\"%Y-%m-%d\")\n",
        "    except:\n",
        "      return 1\n",
        "  if (expiration_date is None):\n",
        "      return 1\n",
        "  elif (type(expiration_date) is list):\n",
        "      return 1\n",
        "  else:\n",
        "    today = datetime.now()\n",
        "    end = abs((expiration_date - today).days)\n",
        "    if ((end/30) < 6):\n",
        "      end = 0\n",
        "    else:\n",
        "      end = 1\n",
        "  return end\n"
      ],
      "execution_count": 45,
      "outputs": []
    },
    {
      "cell_type": "code",
      "metadata": {
        "id": "kZkWu9w_yicF"
      },
      "source": [
        ""
      ],
      "execution_count": 45,
      "outputs": []
    },
    {
      "cell_type": "markdown",
      "metadata": {
        "id": "RaIBvylCWvw6"
      },
      "source": [
        "> # **HTML and Javascript based features**\n"
      ]
    },
    {
      "cell_type": "markdown",
      "metadata": {
        "id": "bSJMxgyyXfYJ"
      },
      "source": [
        "> **3.1 . IFrame Redirection**"
      ]
    },
    {
      "cell_type": "code",
      "metadata": {
        "id": "3US4olF1XlQ5"
      },
      "source": [
        "  #If the iframe is empty or repsonse is not found then, the value assigned to this feature is 1 (phishing) or else 0 (legitimate).\n",
        "\n",
        "\n",
        "  def iframe(response):\n",
        "    if response == \"\":\n",
        "        return 1\n",
        "    else:           \n",
        "        if re.findall(r\"[<iframe>|<frameBorder>]\", response.text):\n",
        "            return 0\n",
        "        else:\n",
        "            return 1"
      ],
      "execution_count": 46,
      "outputs": []
    },
    {
      "cell_type": "markdown",
      "metadata": {
        "id": "_L6RYYEHwyDI"
      },
      "source": [
        "> **3.2 . Status Bar Customization**"
      ]
    },
    {
      "cell_type": "code",
      "metadata": {
        "id": "kMz5thcPw_1M"
      },
      "source": [
        "# If the response is empty or onmouseover is found then, the value assigned to this feature is 1 (phishing) or else 0 (legitimate).\n",
        "def mouseOver(response): \n",
        "  if response == \"\" :\n",
        "    return 1\n",
        "  else:    \n",
        "    if re.findall(\"<script>.+onmouseover.+</script>\", response.text):\n",
        "      return 1\n",
        "    else:\n",
        "      return 0"
      ],
      "execution_count": 47,
      "outputs": []
    },
    {
      "cell_type": "markdown",
      "metadata": {
        "id": "NUpTR0oGxODj"
      },
      "source": [
        "> **3.3 . Status Bar Customization**"
      ]
    },
    {
      "cell_type": "code",
      "metadata": {
        "id": "6z-pFrkPxTiO"
      },
      "source": [
        "# If the response is empty or onmouseover is not found then, the value assigned to this feature is 1 (phishing) or else 0 (legitimate).\n",
        "def rightClick(response):\n",
        "  if response == \"\":\n",
        "    return 1\n",
        "  else:    \n",
        "    if re.findall(r\"event.button ?== ?2\", response.text):\n",
        "      return 0\n",
        "    else:\n",
        "      return 1\n"
      ],
      "execution_count": 48,
      "outputs": []
    },
    {
      "cell_type": "markdown",
      "metadata": {
        "id": "5fF50HwmxV-S"
      },
      "source": [
        "> **3.4 . Website Forwarding**"
      ]
    },
    {
      "cell_type": "code",
      "metadata": {
        "id": "de728vqkxewd"
      },
      "source": [
        "# legtimate website forwards at maxx one times, phishing websites are forwarded at least 4 times.\n",
        "def forwarding(response):\n",
        "  if response == \"\":\n",
        "    return 1\n",
        "  else:    \n",
        "    if len(response.history) <= 2:\n",
        "      return 0\n",
        "    else:\n",
        "      return 1\n"
      ],
      "execution_count": 49,
      "outputs": []
    },
    {
      "cell_type": "code",
      "metadata": {
        "id": "Ho2Ue64oxx_P"
      },
      "source": [
        ""
      ],
      "execution_count": 49,
      "outputs": []
    },
    {
      "cell_type": "markdown",
      "metadata": {
        "id": "huvHmSAx0oDV"
      },
      "source": [
        "> # **Computing URL Features**"
      ]
    },
    {
      "cell_type": "code",
      "metadata": {
        "id": "ni6WQl150uRu"
      },
      "source": [
        "def featureExtraction(url,label, curr):\n",
        "  feature_names = ['Domain', 'Have_IP', 'Have_At', 'URL_Length', 'URL_Depth','Redirection', \n",
        "                      'https_Domain', 'TinyURL', 'Prefix/Suffix', 'DNS_Record',\n",
        "                      'Domain_Age', 'Domain_End', 'iFrame', 'Mouse_Over','Right_Click', 'Web_Forwards', 'Label']\n",
        "  features = []\n",
        "  #Address bar based features  are working correctly    \n",
        "  features.append(getDomain(url))\n",
        "  features.append(haveIP(url))\n",
        "  features.append(haveAt(url))\n",
        "  features.append(urlLength(url))\n",
        "  features.append(getDepth(url))\n",
        "  features.append(redirection(url))\n",
        "  features.append(hiddenhttps(url))\n",
        "  features.append(usesTinyUrl(url))\n",
        "  features.append(haveHyphen(url))\n",
        "  \n",
        "  #Domain based features  working correctly\n",
        "  dns = 0\n",
        "  try:\n",
        "    domain_name = whois.whois(urlparse(url).netloc)\n",
        "  except:\n",
        "    dns = 1\n",
        "\n",
        "  features.append(dns)\n",
        "  features.append(web_traffic(url))\n",
        "  features.append(1 if dns == 1 else domainAge(domain_name))\n",
        "  features.append(1 if dns == 1 else domainEnd(domain_name))\n",
        "  \n",
        "  # HTML & Javascript based features working correctly\n",
        "  temp = ['1']*4\n",
        "  temp.append(label)\n",
        "\n",
        "  try:   \n",
        "    response = requests.get(url, timeout=5 )        \n",
        "    print('HTTP response code: ', response.status_code)\n",
        "    if response.status_code == 200:       \n",
        "      features.append(iframe(response))      \n",
        "      features.append(mouseOver(response))    \n",
        "      features.append(rightClick(response))    \n",
        "      features.append(forwarding(response))    \n",
        "      features.append(label)          \n",
        "    else: \n",
        "      print('Not reachable - ', url)\n",
        "      features.extend(temp)\n",
        "  except:     \n",
        "    print('Timeout - ', url)\n",
        "    features.extend(temp)\n",
        "    \n",
        "\n",
        "  return features\n"
      ],
      "execution_count": 50,
      "outputs": []
    },
    {
      "cell_type": "markdown",
      "metadata": {
        "id": "3mwtE2zT2FoJ"
      },
      "source": [
        ">#  **4.1. Legitimate URLs:**\n"
      ]
    },
    {
      "cell_type": "code",
      "metadata": {
        "id": "bQZIvl_nTjwI",
        "colab": {
          "base_uri": "https://localhost:8080/"
        },
        "outputId": "937c8e26-a3c2-4663-a621-edbf03e067f0"
      },
      "source": [
        "\n",
        "#Extracting the feautres & storing them in a list\n",
        "legi_features = []\n",
        "label = 0\n",
        "# 1 is phishing , 0 is legitimate\n",
        "for i in range(0, len(legi_url) ):\n",
        "  #print('i is: ', i, 'url: ', legi_url['URLs'][i]  )\n",
        "  print('i is: ', i , end = \"\")\n",
        "  url = legi_url['URLs'][i]  \n",
        "  legi_features.append(featureExtraction(url,label, i))\n"
      ],
      "execution_count": null,
      "outputs": [
        {
          "output_type": "stream",
          "name": "stdout",
          "text": [
            "i is:  0graphicriver.net\n",
            "HTTP response code:  200\n",
            "i is:  1ecnavi.jp\n",
            "HTTP response code:  200\n",
            "i is:  2hubpages.com\n",
            "HTTP response code:  200\n",
            "i is:  3extratorrent.cc\n",
            "HTTP response code:  404\n",
            "Not reachable -  http://extratorrent.cc/torrent/4190536/AOMEI+Backupper+Technician+%2B+Server+Edition+2.8.0+%2B+Patch+%2B+Key+%2B+100%25+Working.html\n",
            "i is:  4icicibank.com\n",
            "HTTP response code:  200\n",
            "i is:  5nypost.com\n",
            "HTTP response code:  200\n",
            "i is:  6kienthuc.net.vn\n",
            "Error trying to connect to socket: closing socket\n",
            "HTTP response code:  200\n",
            "i is:  7thenextweb.com\n",
            "HTTP response code:  405\n",
            "Not reachable -  http://thenextweb.com/in/2015/04/16/india-wants-a-neutral-web-and-facebooks-internet-org-cant-be-a-part-of-it/gtm.js\n",
            "i is:  8tobogo.net\n",
            "HTTP response code:  200\n",
            "i is:  9akhbarelyom.com\n",
            "HTTP response code:  200\n",
            "i is:  10tunein.com\n",
            "HTTP response code:  200\n",
            "i is:  11tune.pk\n",
            "Error trying to connect to socket: closing socket\n",
            "HTTP response code:  404\n",
            "Not reachable -  https://tune.pk/video/6046458/canelo-vs-kirkland-highlights-hbo-world-championship-boxing\n",
            "i is:  12sfglobe.com\n",
            "HTTP response code:  404\n",
            "Not reachable -  http://sfglobe.com/2015/05/01/six-baltimore-police-officers-charged-in-freddie-grays-death/?src=home_feed\n",
            "i is:  13mic.com\n",
            "HTTP response code:  200\n",
            "i is:  14thenextweb.com\n",
            "HTTP response code:  405\n",
            "Not reachable -  http://thenextweb.com/apps/2015/05/07/flickr-launches-redesigned-mobile-apps-encourages-you-to-upload-your-entire-camera-roll/gtm.js\n",
            "i is:  15couchtuner.eu.com\n",
            "HTTP response code:  403\n",
            "Not reachable -  http://couchtuner.eu.com/2013/05/anger-management-s2-e17-charlie-lets-kate-take-charge.html\n",
            "i is:  16olx.in\n",
            "Timeout -  http://olx.in/hi/item/nokia-5800-express-music-perfect-working-condition-body-average-cond-IDTIzUp.html\n",
            "i is:  17venturebeat.com\n",
            "HTTP response code:  200\n",
            "i is:  18allegro.pl\n",
            "HTTP response code:  403\n",
            "Not reachable -  http://allegro.pl/listing/listing.php?id=122233&order=m&string=%7Bstring%7D&bmatch=seng-ps-mp-p-sm-isqm-2-e-0402\n",
            "i is:  19allegro.pl\n",
            "HTTP response code:  403\n",
            "Not reachable -  http://allegro.pl/listing/listing.php?id=20782&order=m&p=2&string=%7Bstring%7D&bmatch=seng-v10-p-sm-isqm-2-o-0113\n",
            "i is:  20tinnhanh360.net\n",
            "Timeout -  http://tinnhanh360.net/-ong-tay-de-thuong-ban-do-choi-dao-ha-noi-gay-ngac-nhien-thich-thu.html\n",
            "i is:  21metro.co.uk\n",
            "HTTP response code:  200\n",
            "i is:  22atwiki.jp\n",
            "HTTP response code:  200\n",
            "i is:  23emgn.com\n",
            "Timeout -  http://emgn.com/tv/schnauzer-passes-out-with-excitement-when-he-is-reunited-with-his-human-after-2-years/\n",
            "i is:  24nguyentandung.org\n",
            "Timeout -  http://nguyentandung.org/bo-truong-nguyen-bac-son-se-manh-tay-ngan-chan-tin-nhan-rac.html\n",
            "i is:  25motthegioi.vn\n",
            "Error trying to connect to socket: closing socket\n",
            "Timeout -  http://motthegioi.vn/tai-chinh-bat-dong-san/tu-17-nguoi-mua-nha-dat-phai-cong-them-hang-loat-chi-phi-187472.html\n",
            "i is:  26spankbang.com\n",
            "HTTP response code:  404\n",
            "Not reachable -  http://spankbang.com/4ze1/video/brunette+with+big+boobs+fucked+in+a+cellar+public+agent\n",
            "i is:  27torcache.net\n",
            "HTTP response code:  200\n",
            "i is:  28mic.com\n",
            "HTTP response code:  200\n",
            "i is:  29thenextweb.com\n",
            "HTTP response code:  405\n",
            "Not reachable -  http://thenextweb.com/dd/2014/04/08/ux-designers-side-drawer-navigation-costing-half-user-engagement/feed/gtm.start\n",
            "i is:  30emgn.com\n",
            "Timeout -  http://emgn.com/movies/person-of-interest-what-to-expect-from-season-4-release-date/\n",
            "i is:  31depositphotos.com\n",
            "HTTP response code:  200\n",
            "i is:  32serverfault.com\n",
            "HTTP response code:  200\n",
            "i is:  33kakaku.com\n",
            "HTTP response code:  200\n",
            "i is:  34indianexpress.com\n",
            "HTTP response code:  200\n",
            "i is:  35nypost.com\n",
            "Timeout -  http://nypost.com/2015/05/13/brooklyn-man-kills-cheating-girlfriends-lover-then-self/?share=email\n",
            "i is:  36distractify.com\n",
            "HTTP response code:  404\n",
            "Not reachable -  http://distractify.com/post/related/id/5543af854a0c4b511d7c70a2/skip/30/limit/10/back/0\n",
            "i is:  37sourceforge.net\n",
            "Timeout -  http://sourceforge.net/directory/communications/add_facet_filter?facet=os&constraint=Mac\n",
            "i is:  38babal.net\n",
            "HTTP response code:  404\n",
            "Not reachable -  http://babal.net/books/view/960/%D8%AE%D9%8A%D8%A7%D9%86%D8%A9-%D8%A7%D9%84%D9%85%D8%AB%D9%82%D9%81%D9%8A%D9%86\n",
            "i is:  39serverfault.com\n",
            "Timeout -  http://serverfault.com/questions/690852/use-powershell-to-start-a-gui-program-on-a-remote-machine\n",
            "i is:  40cookpad.com\n",
            "HTTP response code:  200\n",
            "i is:  41plarium.com\n",
            "Timeout -  http://plarium.com/en/strategy-games/stormfall-age-of-war/news/withdraw-to-the-catacombs/\n",
            "i is:  42pikabu.ru\n",
            "Timeout -  http://pikabu.ru/tag/%D1%81%D1%82%D0%B0%D0%B2%D1%80%D0%BE%D0%BF%D0%BE%D0%BB%D1%8C/hot\n",
            "i is:  43grantland.com\n",
            "HTTP response code:  200\n",
            "i is:  44allegro.pl\n",
            "HTTP response code:  403\n",
            "Not reachable -  http://allegro.pl/listing/user/listing.php?us_id=25662671&order=p&string=B-110+HIT&search_scope=userItems-25662671&bmatch=s0-default-0113&sh_dwh_token=d0b6dd74a8394345128e20d296cb1c5e\n",
            "i is:  45nguyentandung.org\n",
            "Timeout -  http://nguyentandung.org/bai-do-xe-ngam-trong-cong-vien-thong-nhat-thu-hoi-von-cach-nao.html\n",
            "i is:  46allegro.pl\n",
            "HTTP response code:  403\n",
            "Not reachable -  http://allegro.pl/listing/listing.php?bmatch=seng-v6-p-sm-isqm-2-ce-0113&id=175&order=m&string=%7Bstring%7D\n",
            "i is:  47europa.eu\n"
          ]
        }
      ]
    },
    {
      "cell_type": "code",
      "metadata": {
        "id": "ND5020yiUy6r"
      },
      "source": [
        "#converting the list to dataframe\n",
        "feature_names = ['Domain', 'Have_IP', 'Have_At', 'URL_Length', 'URL_Depth','Redirection', \n",
        "                      'https_Domain', 'TinyURL', 'Prefix/Suffix', 'DNS_Record', 'Web_Traffic', \n",
        "                      'Domain_Age', 'Domain_End', 'iFrame', 'Mouse_Over','Right_Click', 'Web_Forwards', 'Label']\n",
        "\n",
        "legitimate = pd.DataFrame(legi_features, columns= feature_names)\n",
        "legitimate.head()\n"
      ],
      "execution_count": null,
      "outputs": []
    },
    {
      "cell_type": "code",
      "metadata": {
        "id": "URNP4eLrVNHR"
      },
      "source": [
        "legitimate.to_csv('legitimate_copy.csv', index= False)\n"
      ],
      "execution_count": null,
      "outputs": []
    },
    {
      "cell_type": "code",
      "metadata": {
        "id": "yVv1-Q0ucn9L"
      },
      "source": [
        "!cp legitimate_copy.csv \"/content/drive/MyDrive/Colab Notebooks/Datasets\""
      ],
      "execution_count": null,
      "outputs": []
    },
    {
      "cell_type": "markdown",
      "metadata": {
        "id": "S3QVdyLoawCp"
      },
      "source": [
        "> # **4.2. Phishing URLs:**"
      ]
    },
    {
      "cell_type": "code",
      "metadata": {
        "id": "KGfV6_kTa4Je"
      },
      "source": [
        "phis_url.shape"
      ],
      "execution_count": null,
      "outputs": []
    },
    {
      "cell_type": "markdown",
      "metadata": {
        "id": "ZD_h8BNSzh1j"
      },
      "source": [
        ""
      ]
    },
    {
      "cell_type": "code",
      "metadata": {
        "id": "W4CfNKy2a7YQ"
      },
      "source": [
        "#Extracting the feautres & storing them in a list\n",
        "phish_features = []\n",
        "label = 1\n",
        "for i in range(0, len(legi_url) ):\n",
        "  url = phis_url['url'][i]\n",
        "  print('i is: ', i, 'url: ', legi_url['URLs'][i]  )\n",
        "  phish_features.append(featureExtraction(url,label, i))\n"
      ],
      "execution_count": null,
      "outputs": []
    },
    {
      "cell_type": "code",
      "metadata": {
        "id": "yaQVhdeKbDbf"
      },
      "source": [
        "#converting the list to dataframe\n",
        "\n",
        "feature_names = ['Domain', 'Have_IP', 'Have_At', 'URL_Length', 'URL_Depth','Redirection', \n",
        "                      'https_Domain', 'TinyURL', 'Prefix/Suffix', 'DNS_Record', 'Web_Traffic', \n",
        "                      'Domain_Age', 'Domain_End', 'iFrame', 'Mouse_Over','Right_Click', 'Web_Forwards', 'Label']\n",
        "                      \n",
        "phishing = pd.DataFrame(phish_features, columns= feature_names)\n",
        "phishing.head()\n"
      ],
      "execution_count": null,
      "outputs": []
    },
    {
      "cell_type": "code",
      "metadata": {
        "id": "x3ErTTlVbNAj"
      },
      "source": [
        "# Storing the extracted legitimate URLs fatures to csv file\n",
        "phishing.to_csv('phishing_copy.csv', index= False)\n"
      ],
      "execution_count": null,
      "outputs": []
    },
    {
      "cell_type": "code",
      "metadata": {
        "id": "yx2YlUn6cgIg"
      },
      "source": [
        "!cp phishing_copy.csv \"/content/drive/MyDrive/Colab Notebooks/Datasets\""
      ],
      "execution_count": null,
      "outputs": []
    },
    {
      "cell_type": "markdown",
      "metadata": {
        "id": "DVWKkJqpbR08"
      },
      "source": [
        "> **Final Dataset**"
      ]
    },
    {
      "cell_type": "code",
      "metadata": {
        "id": "_tNI5j-nbZxn"
      },
      "source": [
        "#Concatenating the dataframes into one \n",
        "urldata = pd.concat([legitimate, phishing]).reset_index(drop=True)\n",
        "feature_names = ['Domain', 'Have_IP', 'Have_At', 'URL_Length', 'URL_Depth','Redirection', \n",
        "                      'https_Domain', 'TinyURL', 'Prefix/Suffix', 'DNS_Record', 'Web_Traffic', \n",
        "                      'Domain_Age', 'Domain_End', 'iFrame', 'Mouse_Over','Right_Click', 'Web_Forwards', 'Label']\n",
        "urldata = pd.DataFrame(urldata, columns= feature_names)\n",
        "urldata.head()\n"
      ],
      "execution_count": null,
      "outputs": []
    },
    {
      "cell_type": "code",
      "metadata": {
        "id": "-llH3ESSbgzf"
      },
      "source": [
        "urldata.shape\n"
      ],
      "execution_count": null,
      "outputs": []
    },
    {
      "cell_type": "code",
      "metadata": {
        "id": "YUEAEPQ4bkH-"
      },
      "source": [
        "# Storing the data in CSV file\n",
        "urldata.to_csv('final_data.csv', index=False)\n",
        "\n"
      ],
      "execution_count": null,
      "outputs": []
    },
    {
      "cell_type": "code",
      "metadata": {
        "id": "Mj1PGCAhbmhQ"
      },
      "source": [
        "!cp final_data.csv \"/content/drive/MyDrive/Colab Notebooks/Datasets\""
      ],
      "execution_count": null,
      "outputs": []
    },
    {
      "cell_type": "code",
      "metadata": {
        "id": "q9mHg1Z_yYK4"
      },
      "source": [
        "temp = pd.read_csv('/content/drive/MyDrive/Colab Notebooks/Datasets/final_data.csv')"
      ],
      "execution_count": null,
      "outputs": []
    },
    {
      "cell_type": "code",
      "metadata": {
        "id": "E75xO6R3yhGj"
      },
      "source": [
        "temp.shape"
      ],
      "execution_count": null,
      "outputs": []
    },
    {
      "cell_type": "code",
      "metadata": {
        "id": "q20F9_3Lyi0L"
      },
      "source": [
        ""
      ],
      "execution_count": null,
      "outputs": []
    }
  ]
}